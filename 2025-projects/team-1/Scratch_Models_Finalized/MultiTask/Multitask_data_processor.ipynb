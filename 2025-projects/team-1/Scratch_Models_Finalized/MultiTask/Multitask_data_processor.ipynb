{
 "cells": [
  {
   "cell_type": "code",
   "execution_count": 1,
   "id": "e54f56c2-9e56-4c43-8ac7-1632968c4148",
   "metadata": {},
   "outputs": [],
   "source": [
    "#IMPORTS\n",
    "\n",
    "#File IO\n",
    "import os\n",
    "import glob\n",
    "\n",
    "#Data manipulation\n",
    "import numpy as np\n",
    "\n",
    "#Pytorch\n",
    "import torch\n",
    "from torch.utils.data import TensorDataset, DataLoader, random_split\n",
    "\n",
    "#Misc\n",
    "from tqdm import tqdm\n"
   ]
  },
  {
   "cell_type": "code",
   "execution_count": 2,
   "id": "1f637138-7a72-4e4b-b66d-c4129a08e960",
   "metadata": {},
   "outputs": [],
   "source": [
    "#GET TARGET DATA\n",
    "\n",
    "def get_features(file):\n",
    "    with np.load(file) as data:\n",
    "        bands = data['rad']\n",
    "        features = np.stack([\n",
    "            data['l2_cloud_mask'],\n",
    "            data['l2_cloud_phase'],\n",
    "            data['l2_cod'] * 0.001,\n",
    "            data['l2_cps'] * 0.001\n",
    "        ])\n",
    "    return bands, features"
   ]
  },
  {
   "cell_type": "code",
   "execution_count": 3,
   "id": "0af37ff9-2fb5-4cc9-9659-cc8230b087e9",
   "metadata": {},
   "outputs": [
    {
     "name": "stderr",
     "output_type": "stream",
     "text": [
      "123it [00:35,  3.48it/s]\n"
     ]
    },
    {
     "ename": "KeyboardInterrupt",
     "evalue": "",
     "output_type": "error",
     "traceback": [
      "\u001b[31m---------------------------------------------------------------------------\u001b[39m",
      "\u001b[31mKeyboardInterrupt\u001b[39m                         Traceback (most recent call last)",
      "\u001b[36mCell\u001b[39m\u001b[36m \u001b[39m\u001b[32mIn[3]\u001b[39m\u001b[32m, line 11\u001b[39m\n\u001b[32m      8\u001b[39m y = []\n\u001b[32m     10\u001b[39m \u001b[38;5;28;01mfor\u001b[39;00m i, file \u001b[38;5;129;01min\u001b[39;00m tqdm(\u001b[38;5;28menumerate\u001b[39m(file_list)):\n\u001b[32m---> \u001b[39m\u001b[32m11\u001b[39m     features, target = \u001b[43mget_features\u001b[49m\u001b[43m(\u001b[49m\u001b[43mfile\u001b[49m\u001b[43m)\u001b[49m\n\u001b[32m     12\u001b[39m     X.append(features)\n\u001b[32m     13\u001b[39m     y.append(target)\n",
      "\u001b[36mCell\u001b[39m\u001b[36m \u001b[39m\u001b[32mIn[2]\u001b[39m\u001b[32m, line 7\u001b[39m, in \u001b[36mget_features\u001b[39m\u001b[34m(file)\u001b[39m\n\u001b[32m      4\u001b[39m \u001b[38;5;28;01mwith\u001b[39;00m np.load(file) \u001b[38;5;28;01mas\u001b[39;00m data:\n\u001b[32m      5\u001b[39m     bands = data[\u001b[33m'\u001b[39m\u001b[33mrad\u001b[39m\u001b[33m'\u001b[39m]\n\u001b[32m      6\u001b[39m     features = np.stack([\n\u001b[32m----> \u001b[39m\u001b[32m7\u001b[39m         \u001b[43mdata\u001b[49m\u001b[43m[\u001b[49m\u001b[33;43m'\u001b[39;49m\u001b[33;43ml2_cloud_mask\u001b[39;49m\u001b[33;43m'\u001b[39;49m\u001b[43m]\u001b[49m,\n\u001b[32m      8\u001b[39m         data[\u001b[33m'\u001b[39m\u001b[33ml2_cloud_phase\u001b[39m\u001b[33m'\u001b[39m],\n\u001b[32m      9\u001b[39m         data[\u001b[33m'\u001b[39m\u001b[33ml2_cod\u001b[39m\u001b[33m'\u001b[39m] * \u001b[32m0.001\u001b[39m,\n\u001b[32m     10\u001b[39m         data[\u001b[33m'\u001b[39m\u001b[33ml2_cps\u001b[39m\u001b[33m'\u001b[39m] * \u001b[32m0.001\u001b[39m\n\u001b[32m     11\u001b[39m     ])\n\u001b[32m     12\u001b[39m \u001b[38;5;28;01mreturn\u001b[39;00m bands, features\n",
      "\u001b[36mFile \u001b[39m\u001b[32m/umbc/rs/cybertrn/reu2025/team1/research/Model1/envs/jupyter_env/lib/python3.12/site-packages/numpy/lib/_npyio_impl.py:245\u001b[39m, in \u001b[36mNpzFile.__getitem__\u001b[39m\u001b[34m(self, key)\u001b[39m\n\u001b[32m    243\u001b[39m     \u001b[38;5;28;01mraise\u001b[39;00m \u001b[38;5;167;01mKeyError\u001b[39;00m(\u001b[33mf\u001b[39m\u001b[33m\"\u001b[39m\u001b[38;5;132;01m{\u001b[39;00mkey\u001b[38;5;132;01m}\u001b[39;00m\u001b[33m is not a file in the archive\u001b[39m\u001b[33m\"\u001b[39m) \u001b[38;5;28;01mfrom\u001b[39;00m\u001b[38;5;250m \u001b[39m\u001b[38;5;28;01mNone\u001b[39;00m\n\u001b[32m    244\u001b[39m \u001b[38;5;28;01melse\u001b[39;00m:\n\u001b[32m--> \u001b[39m\u001b[32m245\u001b[39m     \u001b[38;5;28;01mwith\u001b[39;00m \u001b[38;5;28;43mself\u001b[39;49m\u001b[43m.\u001b[49m\u001b[43mzip\u001b[49m\u001b[43m.\u001b[49m\u001b[43mopen\u001b[49m\u001b[43m(\u001b[49m\u001b[43mkey\u001b[49m\u001b[43m)\u001b[49m \u001b[38;5;28;01mas\u001b[39;00m \u001b[38;5;28mbytes\u001b[39m:\n\u001b[32m    246\u001b[39m         magic = \u001b[38;5;28mbytes\u001b[39m.read(\u001b[38;5;28mlen\u001b[39m(\u001b[38;5;28mformat\u001b[39m.MAGIC_PREFIX))\n\u001b[32m    247\u001b[39m         \u001b[38;5;28mbytes\u001b[39m.seek(\u001b[32m0\u001b[39m)\n",
      "\u001b[36mFile \u001b[39m\u001b[32m/umbc/rs/cybertrn/reu2025/team1/research/Model1/envs/jupyter_env/lib/python3.12/zipfile/__init__.py:1624\u001b[39m, in \u001b[36mZipFile.open\u001b[39m\u001b[34m(self, name, mode, pwd, force_zip64)\u001b[39m\n\u001b[32m   1620\u001b[39m zef_file = _SharedFile(\u001b[38;5;28mself\u001b[39m.fp, zinfo.header_offset,\n\u001b[32m   1621\u001b[39m                        \u001b[38;5;28mself\u001b[39m._fpclose, \u001b[38;5;28mself\u001b[39m._lock, \u001b[38;5;28;01mlambda\u001b[39;00m: \u001b[38;5;28mself\u001b[39m._writing)\n\u001b[32m   1622\u001b[39m \u001b[38;5;28;01mtry\u001b[39;00m:\n\u001b[32m   1623\u001b[39m     \u001b[38;5;66;03m# Skip the file header:\u001b[39;00m\n\u001b[32m-> \u001b[39m\u001b[32m1624\u001b[39m     fheader = \u001b[43mzef_file\u001b[49m\u001b[43m.\u001b[49m\u001b[43mread\u001b[49m\u001b[43m(\u001b[49m\u001b[43msizeFileHeader\u001b[49m\u001b[43m)\u001b[49m\n\u001b[32m   1625\u001b[39m     \u001b[38;5;28;01mif\u001b[39;00m \u001b[38;5;28mlen\u001b[39m(fheader) != sizeFileHeader:\n\u001b[32m   1626\u001b[39m         \u001b[38;5;28;01mraise\u001b[39;00m BadZipFile(\u001b[33m\"\u001b[39m\u001b[33mTruncated file header\u001b[39m\u001b[33m\"\u001b[39m)\n",
      "\u001b[36mFile \u001b[39m\u001b[32m/umbc/rs/cybertrn/reu2025/team1/research/Model1/envs/jupyter_env/lib/python3.12/zipfile/__init__.py:811\u001b[39m, in \u001b[36m_SharedFile.read\u001b[39m\u001b[34m(self, n)\u001b[39m\n\u001b[32m    807\u001b[39m     \u001b[38;5;28;01mraise\u001b[39;00m \u001b[38;5;167;01mValueError\u001b[39;00m(\u001b[33m\"\u001b[39m\u001b[33mCan\u001b[39m\u001b[33m'\u001b[39m\u001b[33mt read from the ZIP file while there \u001b[39m\u001b[33m\"\u001b[39m\n\u001b[32m    808\u001b[39m             \u001b[33m\"\u001b[39m\u001b[33mis an open writing handle on it. \u001b[39m\u001b[33m\"\u001b[39m\n\u001b[32m    809\u001b[39m             \u001b[33m\"\u001b[39m\u001b[33mClose the writing handle before trying to read.\u001b[39m\u001b[33m\"\u001b[39m)\n\u001b[32m    810\u001b[39m \u001b[38;5;28mself\u001b[39m._file.seek(\u001b[38;5;28mself\u001b[39m._pos)\n\u001b[32m--> \u001b[39m\u001b[32m811\u001b[39m data = \u001b[38;5;28;43mself\u001b[39;49m\u001b[43m.\u001b[49m\u001b[43m_file\u001b[49m\u001b[43m.\u001b[49m\u001b[43mread\u001b[49m\u001b[43m(\u001b[49m\u001b[43mn\u001b[49m\u001b[43m)\u001b[49m\n\u001b[32m    812\u001b[39m \u001b[38;5;28mself\u001b[39m._pos = \u001b[38;5;28mself\u001b[39m._file.tell()\n\u001b[32m    813\u001b[39m \u001b[38;5;28;01mreturn\u001b[39;00m data\n",
      "\u001b[31mKeyboardInterrupt\u001b[39m: "
     ]
    }
   ],
   "source": [
    "max_images = 15000\n",
    "\n",
    "#CREATE DATASET\n",
    "\n",
    "file_list = glob.glob('../ABI_Data/*.npz')\n",
    "\n",
    "X = []\n",
    "y = []\n",
    "\n",
    "for i, file in tqdm(enumerate(file_list)):\n",
    "    features, target = get_features(file)\n",
    "    X.append(features)\n",
    "    y.append(target)\n",
    "    if i == max_images-1: break\n",
    "\n",
    "X = np.stack(X)  # shape: (Samples, 128, 128, 16)\n",
    "X = torch.from_numpy(X).float()\n",
    "X = X.permute(0, 3, 1, 2)  # shape: (Samples, 16, 128, 128)\n",
    "\n",
    "\n",
    "y = np.stack(y)\n",
    "y = torch.from_numpy(y).float() # shape: (Samples, 4, 128, 128)\n",
    "\n",
    "dataset = TensorDataset(X, y)\n",
    "torch.save(dataset, \"dataset.pt\")"
   ]
  },
  {
   "cell_type": "code",
   "execution_count": null,
   "id": "239e21cb-f136-4e1e-acf4-186bbe91dfb4",
   "metadata": {},
   "outputs": [],
   "source": []
  }
 ],
 "metadata": {
  "kernelspec": {
   "display_name": "Python 3 (ipykernel)",
   "language": "python",
   "name": "python3"
  },
  "language_info": {
   "codemirror_mode": {
    "name": "ipython",
    "version": 3
   },
   "file_extension": ".py",
   "mimetype": "text/x-python",
   "name": "python",
   "nbconvert_exporter": "python",
   "pygments_lexer": "ipython3",
   "version": "3.12.11"
  }
 },
 "nbformat": 4,
 "nbformat_minor": 5
}
