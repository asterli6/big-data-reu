import os
import glob
import random
import numpy as np
from tqdm import tqdm
import panel as pn
import xarray as xr
import matplotlib.pyplot as plt
from matplotlib.colors import LogNorm  # <-- Missing import
from matplotlib.gridspec import GridSpec  # <-- For proper gridspec
import holoviews as hv
from holoviews import opts
import hvplot.xarray
import matplotlib.pyplot as plt
import plotly.express as px
import pandas as pd
hv.extension('bokeh')


def read_stack_var(image_chips=[], var=''):
    all_pixels = [np.load(file)[var] for file in tqdm(image_chips)]
    # Stack the data into a large numpy array
    all_data = np.stack(all_pixels)  # shape: (num_files, 128, 128, 16)
    return all_data


#data_dir = "/umbc/rs/nasa-access/users/xingyan/pytorch-caney/data/downstream_2dcloud"
data_dir = "/umbc/rs/nasa-access/users/xingyan/pytorch-caney/data/downstream_2dcloud_scaled/"





image_chips = sorted(glob.glob(os.path.join(data_dir, "*.npz")))


# Print available variables 
# Load the NPZ file
data = np.load(os.path.join(data_dir, image_chips[0]))

# List all arrays in the file
print("Arrays in NPZ file:", data.files)

# Access individual arrays
for array_name in data.files:
    print(f"\nArray '{array_name}':")
    array_data = data[array_name]
    print("Shape:", array_data.shape)
    print("Data type:", array_data.dtype)
    print("First few values:", array_data[:5] if array_data.ndim == 1 else "(multidimensional)")

# Close the file when done
data.close()


num = 6
random_examples = random.sample(image_chips, num)
random_examples = [os.path.join(data_dir,f) for f in random_examples]

for index in range(num):
    data = {
    'lons': np.load(random_examples[index])['lons'],
    'lats': np.load(random_examples[index])['lats'],
    'SoZeAn': np.load(random_examples[index])['SoZeAn'],
    'SoAzAn': np.load(random_examples[index])['SoAzAn'],
    'SeZeAn': np.load(random_examples[index])['SeZeAn'],
    'SeAzAn': np.load(random_examples[index])['SeAzAn'],
    'rad': np.load(random_examples[index])['rad'],
    'l2_cloud_mask': np.load(random_examples[index])['l2_cloud_mask'],
    'l2_cloud_phase': np.load(random_examples[index])['l2_cloud_phase'],
    'l2_cod': np.load(random_examples[index])['l2_cod'],
    'l2_cps': np.load(random_examples[index])['l2_cps']
    }
    print(f"Upper-left point (lon: {data['lons'][0][0]}, lat: {data['lats'][0][0]}).")
    print(f"Lower-right point (lon: {data['lons'][127][127]}, lat: {data['lats'][127][127]}).\n")
    fig = plt.figure(figsize=(24, 18), constrained_layout=True)
    grid = plt.GridSpec(6, 4, hspace=0.4, wspace=0.3) # Edit number of rows and cols here
    
    # 1. Radiance Bands (16 channels)
    for i in range(16):
        ax = fig.add_subplot(grid[i//4, i%4])
        im = ax.imshow(data['rad'][..., i], cmap='viridis', aspect='auto')
        fig.colorbar(im, ax=ax, label='Radiance (W/m²/sr/μm)')
        ax.set_title(f'Band {i+1}', fontsize=10)

    # 2. Cloud Products
    # -----------------
    # Cloud Mask (Enhanced Labels)
    ax = fig.add_subplot(grid[4, 0])
    cmap_mask = plt.cm.colors.ListedColormap(['#2ecc71', '#e74c3c'])  # Green/Red
    im = ax.imshow(data['l2_cloud_mask'], cmap=cmap_mask, vmin=0, vmax=1)
    cbar = fig.colorbar(im, ax=ax, ticks=[0.25, 0.75])
    cbar.ax.set_yticklabels(['Clear', 'Cloudy'], 
                          fontsize=9, rotation=90, va='center')
    ax.set_title('CLOUD MASK CONFIDENCE', fontsize=10, pad=12)

    # Cloud Phase (Scientific Colors)
    ax = fig.add_subplot(grid[4, 1])
    phase_spec = [
        (0, '#3498db', 'Clear_sky'),                # Blue
        (1, '#2ecc71', 'Liquid_water'),             # Green
        (2, '#27ae60', 'Supercooled'),              # Dark Green
        (3, '#f39c12', 'Mixed'),                    # Orange
        (4, '#e74c3c', 'Ice'),                      # Red
        (5, '#000000', 'Unknown')                   # Black
    ]
    cmap_phase = plt.cm.colors.ListedColormap([c[1] for c in phase_spec])
    im = ax.imshow(data['l2_cloud_phase'], cmap=cmap_phase, vmin=-0.5, vmax=5.5)
    cbar = fig.colorbar(im, ax=ax, ticks=[c[0] for c in phase_spec])
    cbar.ax.set_yticklabels([c[2] for c in phase_spec], fontsize=9)
    ax.set_title('CLOUD PHASE CLASSIFICATION', fontsize=10)

    # Cloud Optical Depth
    ax = fig.add_subplot(grid[4, 2])
    im = ax.imshow(data['l2_cod'], cmap='viridis')
    fig.colorbar(im, ax=ax, label='Optical Depth', extend='both')
    ax.set_title('CLOUD OPTICAL DEPTH', fontsize=10)

    # Cloud Particle Size
    ax = fig.add_subplot(grid[4, 3])
    im = ax.imshow(data['l2_cps'], cmap='plasma')
    fig.colorbar(im, ax=ax, label='Effective Radius (μm)')
    ax.set_title('CLOUD PARTICLE SIZE', fontsize=10)

    plt.suptitle(f'Satellite Analysis - Sample {index+1}', y=1.02, fontsize=14, weight='bold')

    # 3. Solar and Sensor Angles
    for (i, angle) in zip(range(4),['SoZeAn','SoAzAn','SeZeAn','SeAzAn']):
        ax = fig.add_subplot(grid[5, i])
        im = ax.imshow(data[angle], cmap='viridis')
        fig.colorbar(im, ax=ax, label='Degrees', extend='both')
        ax.set_title(f'{angle}', fontsize=10)





# Read all variables
#cloud_mask = read_stack_var(image_chips=image_chips, var='l2_cloud_mask')
cloud_phase = read_stack_var(image_chips=image_chips, var='l2_cloud_phase')
#l1b_data = read_stack_var(image_chips=image_chips, var='rad')
# cod = read_stack_var(image_chips=image_chips, var='l2_cod')
# cps = read_stack_var(image_chips=image_chips, var='l2_cps')


cloud_mask = read_stack_var(image_chips=image_chips, var='l2_cloud_mask')





unique_phases, counts = np.unique(cloud_mask, return_counts=True)
print("Cloud Phase Categories:", unique_phases)
print("Counts:", counts)
# Create labels for the phases
labels = ['Clear', 'Cloudy']

# Set colors (optional)
colors = plt.cm.tab10.colors  # Use Matplotlib's default colors

# Plot the pie chart
plt.figure(figsize=(6, 6))
plt.pie(counts, labels=labels, colors=colors, autopct='%1.1f%%', startangle=90)

# Set the title
plt.title('Cloud Mask Distribution.  0 = Clear or Probably Clear; 1 = Cloudy or Probably Cloudy.')

# Display the chart
plt.show()





# Pie chart showing percentage of each cloud phase
# Number of instances for each phase
unique_phases, counts = np.unique(cloud_phase, return_counts=True)
print("Cloud Phase Categories:", unique_phases)
print("Counts:", counts)

# Create labels for the phases
labels = [f'Phase {phase}' for phase in unique_phases]

# Set colors (optional)
colors = plt.cm.tab10.colors  # Use Matplotlib's default colors

# Plot the pie chart
plt.figure(figsize=(6, 6))
plt.pie(counts, labels=labels, colors=colors, autopct='%1.1f%%', startangle=90)

# Set the title
phase_spec = [
        (0, '#3498db', 'clear_sky'),                # Blue
        (1, '#2ecc71', 'liquid_water'),             # Green
        (2, '#27ae60', 'Supercooled'),              # Dark Green
        (3, '#f39c12', 'Mixed'),                    # Orange
        (4, '#e74c3c', 'Ice'),                      # Red
        (5, '#000000', 'Unknown')                   # Black
    ]
plt.title('Cloud Phase Distribution. 0 = clear_sky; 1 = liquid_water; 2= Supercooled; 3 = Mixed; 4 = Ice; 5 = Unknown')

# Display the chart
plt.show()





# Box-plot of l1b reflectances for each channel
box_plots = hv.Overlay([
    hv.BoxWhisker(
        l1b_data[:, :, :, channel].flatten(), 
        label=f'Channel {channel}'
    )
    for channel in range(l1b_data.shape[3])
])

# Apply options once (faster than per-plot)
box_plots.opts(
    opts.BoxWhisker(
        width=800, 
        height=800, 
        show_legend=True,
        title='Box Plots for Each Channel', 
        aspect=None
    )
)

box_plots





# Scatter plot of reflectances over cloud phase
# Create an empty list to store scatter plots for each channel
scatter_plots = []

# Iterate over each channel
for channel in range(l1b_data.shape[3]):
    # Extract all reflectance values for the current channel and the corresponding cloud phase
    channel_reflectances = reflectances_data[:, :, :, channel].flatten()
    cloud_phases = cloud_phase.flatten()
    
    # Create a scatter plot
    scatter_plot = hv.Scatter((cloud_phases, channel_reflectances), 'Cloud Phase', 'Reflectance').opts(
        opts.Scatter(
            width=400, height=300, title=f'Channel {channel}', alpha=0.1, size=2, 
            ylim=(np.min(channel_reflectances) * 0.9, np.max(channel_reflectances) * 1.1),
            shared_axes=False)
    )
    
    # Add the scatter plot to the list
    scatter_plots.append(scatter_plot)

# Combine all scatter plots into a Layout
scatter_layout = hv.Layout(scatter_plots).cols(3)  # Display 3 plots per row

# Display the Layout
scatter_layout


# Box plot of reflectances over cloud phase
# Create an empty list to store box plots for each channel
box_plots = []

# Iterate over each channel
for channel in range(l1b_data.shape[1]):
    # Extract all reflectance values for the current channel and the corresponding cloud phase
    channel_reflectances = l1b_data[:, channel, :, :].flatten()
    cloud_phases = cloud_phase_data.flatten()
    
    # Group data by cloud phase
    data = [(int(phase), reflectance) for phase, reflectance in zip(cloud_phases, channel_reflectances)]
    
    # Compute the range of reflectances for the current channel
    y_min = np.min(channel_reflectances)
    y_max = np.max(channel_reflectances)
    
    # Create a box plot
    box_plot = hv.BoxWhisker(data, 'Cloud Phase', 'Reflectance').opts(
        opts.BoxWhisker(
            width=400, 
            height=300,
            title=f'Channel {channel}', 
            show_legend=False,
            ylim=(y_min * 0.9, y_max * 1.1),  # Set y-axis range based on the current channel's data
            shared_axes=False  # Disable shared axes
        )
    )
    
    # Add the box plot to the list
    box_plots.append(box_plot)

# Combine all box plots into a Layout
box_layout = hv.Layout(box_plots).cols(3)  # Display 3 plots per row

# Display the Layout
box_layout





# Extract time information
data = []
for file in l1b_files:
    # Extract the time part from the filename (e.g., '2017309010038')
    time_str = file.split('/')[-1].split('_')[2]
    
    # Extract year, DOY (day of the year), and time
    year = int(time_str[:4])
    doy = int(time_str[4:7])
    time = time_str[7:]
    
    # Convert time to hours, minutes, and seconds
    hour = int(time[:2])
    minute = int(time[2:4])
    second = int(time[4:6])
    
    # Convert DOY to month
    date = pd.to_datetime(f'{year}-{doy}', format='%Y-%j')
    month = date.month
    
    # Convert time to the number of minutes within a day (for visualization purposes)
    time_in_minutes = hour * 60 + minute
    
    # Store the results
    data.append({
        'year': year,
        'month': month,
        'hour': hour,
        'minute': minute,
        'second': second,
        'time_in_minutes': time_in_minutes
    })

# Convert data to a DataFrame
df = pd.DataFrame(data)


scatter_plot = hv.HexTiles(df, ['month', 'hour']).opts(
    opts.HexTiles(
        width=800, 
        height=600, 
        title='Time Distribution by Month (Hexbin)', 
        xlabel='Month', 
        ylabel='Time of Day (Minutes)', 
        cmap='Viridis',  # Color mapping
        colorbar=True,  # Display color bar
        tools=['hover']  # Add hover tool
    )
)
# Display the plot
scatter_plot


# Count the number of files per month
month_counts = df['month'].value_counts().sort_index().reset_index()
month_counts.columns = ['Month', 'Count']  # Rename columns

# Use HoloViews to plot a bar chart
bar_plot = hv.Bars(month_counts, 'Month', 'Count').opts(
    opts.Bars(
        width=800, 
        height=600, 
        title='Instance Count by Month', 
        xlabel='Month', 
        ylabel='Number of Files', 
        color='Month', 
        cmap='Category10'
    )
)

# Display the plot
bar_plot


# Count and distribution of instances over 24 hours
hour_counts = df['hour'].value_counts().sort_index()

# Create a Series for all 24 hours and fill missing hours with 0
all_hours = pd.Series(index=range(24), dtype=int)
hour_counts = all_hours.add(hour_counts, fill_value=0.).fillna(0.)

# Convert the data to a DataFrame
data = pd.DataFrame({
    'Hour': hour_counts.index,
    'Count': hour_counts.values,
    'Theta': np.linspace(0, 360, 24, endpoint=False)  # Convert hours to angles (0-360 degrees)
})

# Create an interactive polar bar chart
fig = px.bar_polar(data, r='Count', theta='Theta', 
                   title='File Count by Hour (Polar Bar Chart)',
                   color='Count',  # Set color based on count
                   color_continuous_scale=px.colors.sequential.Plasma,  # Color map
                   labels={'Count': 'File Count', 'Theta': 'Hour of Day'},
                   template='plotly_white')  # Template

# Update layout
fig.update_layout(
    polar=dict(
        radialaxis=dict(visible=False),  # Hide radial ticks
        angularaxis=dict(  # Set angular ticks
            direction='clockwise',  # Clockwise direction
            tickvals=np.linspace(0, 360, 24, endpoint=False),  # 24 hours
            ticktext=[f'{i}:00' for i in range(24)],  # Hour labels
            tickfont=dict(size=12)  # Font size
        )
    ),
    title=dict(x=0.5, font=dict(size=20)),  # Center title
    showlegend=False  # Hide legend
)

# Display the plot
fig.show()
